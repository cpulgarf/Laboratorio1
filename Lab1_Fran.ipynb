{
  "nbformat": 4,
  "nbformat_minor": 5,
  "metadata": {
    "kernelspec": {
      "display_name": "Python 3",
      "language": "python",
      "name": "python3"
    },
    "language_info": {
      "codemirror_mode": {
        "name": "ipython",
        "version": 3
      },
      "file_extension": ".py",
      "mimetype": "text/x-python",
      "name": "python",
      "nbconvert_exporter": "python",
      "pygments_lexer": "ipython3",
      "version": "3.8.3"
    },
    "colab": {
      "name": "LaboratoriosMDS7202.ipynb",
      "provenance": [],
      "collapsed_sections": [],
      "toc_visible": true
    }
  },
  "cells": [
    {
      "cell_type": "markdown",
      "metadata": {
        "id": "cd7b1b55"
      },
      "source": [
        "<h1><center>Laboratorio 1: Primeros pasos 👣</center></h1>\n",
        "\n",
        "<center><strong>MDS7202: Laboratorio de Programación Científica para Ciencia de Datos - Primavera 2021</strong></center>"
      ],
      "id": "cd7b1b55"
    },
    {
      "cell_type": "markdown",
      "metadata": {
        "id": "Vp_vOHK7V97e"
      },
      "source": [
        "### Cuerpo Docente:\n",
        "\n",
        "- Profesor: Pablo Badilla\n",
        "- Auxiliar: Ignacio Meza D.\n",
        "- Ayudante: Constanza Peña S."
      ],
      "id": "Vp_vOHK7V97e"
    },
    {
      "cell_type": "markdown",
      "metadata": {
        "id": "4N_5AYgyWKyA"
      },
      "source": [
        "### Equipo: SUPER IMPORTANTE - notebooks sin nombre no serán revisados\n",
        "\n",
        "- Nombre de alumno 1:\n",
        "- Nombre de alumno 2: Francisca\n"
      ],
      "id": "4N_5AYgyWKyA"
    },
    {
      "cell_type": "markdown",
      "metadata": {
        "id": "1rjlaJDEWxd9"
      },
      "source": [
        "### **Link de repositorio de GitHub:** `http://....`"
      ],
      "id": "1rjlaJDEWxd9"
    },
    {
      "cell_type": "markdown",
      "metadata": {
        "id": "9el9ERaKWW3i"
      },
      "source": [
        "## Reglas:\n",
        "\n",
        "- Fecha de entrega: 1 semana desde la publicación, 3 días de atraso con 1 punto de descuento c/u. Pueden utilizar días bonus sin descuento.\n",
        "- **Grupos de 2 personas**.\n",
        "- **Ausentes** deberán realizar la actividad solos. \n",
        "- Cualquier duda fuera del horario de clases al foro. Mensajes al equipo docente serán respondidos por este medio.\n",
        "- Prohibidas las copias. \n",
        "- Pueden usar cualquer material del curso que estimen conveniente.\n"
      ],
      "id": "9el9ERaKWW3i"
    },
    {
      "cell_type": "markdown",
      "metadata": {
        "id": "4708b9b7"
      },
      "source": [
        "\n",
        "## Objetivos del lab: \n",
        "\n",
        "\n",
        "- Variables, Operadores y Expresiones.\n",
        "- Estructuras de Control (if/else).\n",
        "- Iteraciones.\n",
        "- Listas y Diccionarios.\n",
        "- Programación Funcional (Map, Filter y Reduce).\n",
        "- Programación Orientada a Objetos (Encapsulamiento, Polimorfismo y Herencia)"
      ],
      "id": "4708b9b7"
    },
    {
      "cell_type": "markdown",
      "metadata": {
        "id": "d58b089c"
      },
      "source": [
        "## Parte 1: 🍋 Frutas 🍓\n",
        "\n",
        "En esta primera parte se trabajará lo escencial visto hasta el momento más un poco de programación funcional a través de frutas:\n",
        "\n",
        "<div align='center'>\n",
        "<img src='https://upload.wikimedia.org/wikipedia/commons/a/a2/Berries_in_Berlin.jpg' width=600/>\n",
        "</div>"
      ],
      "id": "d58b089c"
    },
    {
      "cell_type": "markdown",
      "metadata": {
        "id": "5fdf6b19"
      },
      "source": [
        "Defina las siguientes frutas como diccionarios a partir de sus características (nombre, color, tipo y si posee o no pepas):\n",
        "\n",
        "| Nombre    | Tipo     | Color    | Pepas |\n",
        "|-----------|----------|----------|-------|\n",
        "| limon     | cítrica  | amarillo | True  |\n",
        "| naranja   | cítrica  | naranjo  | True  |\n",
        "| plátano   | tropical | amarillo | False |\n",
        "| piña      | tropical | amarillo | False |\n",
        "| frutilla  | bosque   | rojo     | True  |\n",
        "| frambuesa | bosque   | rojo     | True  |"
      ],
      "id": "5fdf6b19"
    },
    {
      "cell_type": "markdown",
      "metadata": {
        "id": "33aed47b"
      },
      "source": [
        "### Estructurar Datos [0.5 puntos]\n",
        "\n",
        "Agregue Piña, Frutilla y Frambuesa como diccionarios (siga los ejemplos de las frutas dadas) y luego cree un arreglo que contenga estas frutas.\n"
      ],
      "id": "33aed47b"
    },
    {
      "cell_type": "code",
      "metadata": {
        "id": "26d23e26"
      },
      "source": [
        "limon = {\"nombre\": \"limón\", \n",
        "    \"tipo\": \"cítrica\", \n",
        "    \"color\": \"amarillo\", \n",
        "    \"pepas\": True\n",
        "    }\n",
        "\n",
        "naranja = {\"nombre\": \"naranja\", \n",
        "           \"tipo\": \"cítrica\", \n",
        "           \"color\": \"naranjo\", \n",
        "           \"pepas\": True\n",
        "          }\n",
        "\n",
        "platano = {\"nombre\": \"plátano\", \n",
        "           \"tipo\": \"tropical\", \n",
        "           \"color\": \"amarillo\", \n",
        "           \"pepas\": False\n",
        "          }\n",
        "\n",
        "piña  =   {\"nombre\": \"piña\", \n",
        "           \"tipo\": \"tropical\", \n",
        "           \"color\": \"amarillo\", \n",
        "           \"pepas\": False\n",
        "          }\n",
        "\n",
        "frutilla = {\"nombre\": \"frutilla\", \n",
        "           \"tipo\": \"bosque\", \n",
        "           \"color\": \"rojo\", \n",
        "           \"pepas\": True\n",
        "          }\n",
        "\n",
        "frambuesa  =  {\"nombre\": \"frambuesa\", \n",
        "           \"tipo\": \"bosque\", \n",
        "           \"color\": \"rojo\", \n",
        "           \"pepas\": True\n",
        "          }\n"
      ],
      "id": "26d23e26",
      "execution_count": 141,
      "outputs": []
    },
    {
      "cell_type": "markdown",
      "metadata": {
        "id": "259ee333"
      },
      "source": [
        "Ahora, agregue todas las frutas a un arreglo."
      ],
      "id": "259ee333"
    },
    {
      "cell_type": "code",
      "metadata": {
        "id": "fcf62186"
      },
      "source": [
        "# Ojo: agregue los datos en el mismo orden que aparecen en la tabla\n",
        "\n",
        "datos = []\n",
        "datos.append(limon)\n",
        "datos.append(naranja)\n",
        "datos.append(platano)\n",
        "datos.append(piña)\n",
        "datos.append(frutilla)\n",
        "datos.append(frambuesa)"
      ],
      "id": "fcf62186",
      "execution_count": 142,
      "outputs": []
    },
    {
      "cell_type": "markdown",
      "metadata": {
        "id": "2ed7730e"
      },
      "source": [
        "Este arreglo será la información con la que se trabajará durante el lab."
      ],
      "id": "2ed7730e"
    },
    {
      "cell_type": "markdown",
      "metadata": {
        "id": "e9b1e46d"
      },
      "source": [
        "### Funciones Aplicadas a los Datos [1.5 puntos]"
      ],
      "id": "e9b1e46d"
    },
    {
      "cell_type": "markdown",
      "metadata": {
        "id": "b7b016d6"
      },
      "source": [
        "Elabore las siguientes funciones:\n",
        "    \n",
        "**1. La función `describir(datos)` que genere un arreglo con strings que describan cada fruta de la siguiente manera:**\n",
        "\n",
        "```{El/La} {...} es una fruta de tipo {...} de color {...}. {Presenta/No presenta} pepas en su interior.```\n",
        "    \n",
        "Por ejemplo, para el plátano se debe generar el siguiente string:\n",
        "    \n",
        "```\n",
        "'El plátano es una fruta de tipo tropical de color amarillo. No presenta pepas en su interior.'\n",
        "```\n",
        "    \n",
        "Indicaciones: \n",
        "- Usen formateo o suma de strings, if, else y for.\n",
        "- Para saber si ocupar 'El' o 'La', pueden acceder al nombre de la fruta y ver cual es el último carácter a través de indexadores `string[indice]`.\n",
        "    \n",
        "**2. La función `filtrar_por_pepa(datos, tiene_pepas)` que dado un tipo de fruta y un booleano, retorne las frutas que tienen o no tienen pepas (según el valor de `tiene_pepas`).**\n",
        "    \n",
        "\n",
        "Por ejemplo, `filtrar_por_pepa(datos, True)` deberá retornar un arreglo con los diccionarios de: naranja, limon, frutilla y frambuesa.\n",
        "\n",
        "\n",
        "**3. La función `conteo_colores(datos)` que cree un diccionario que haga un conteo los colores de las frutas.**\n",
        "\n",
        "Para estos datos, la función debería retornar el siguiente diccionario: \n",
        "    \n",
        "```python\n",
        "{\"amarillo\": 3, \"naranjo\": 1, \"rojo\": 2, \"café\": 2}\n",
        "````"
      ],
      "id": "b7b016d6"
    },
    {
      "cell_type": "markdown",
      "metadata": {
        "id": "9Wqh7UyYXXIi"
      },
      "source": [
        "**Desarrollo de código:**"
      ],
      "id": "9Wqh7UyYXXIi"
    },
    {
      "cell_type": "code",
      "metadata": {
        "id": "023bc051"
      },
      "source": [
        "def describir(datos):\n",
        "    descripciones = []\n",
        "    for i in datos: # me va indicar la lista (son 6)   ---> ['limón', 'cítrica', 'amarillo', True]\n",
        "        \n",
        "        if i['nombre'][len(i['nombre'])-1] == 'a':\n",
        "            descripciones.append('La')\n",
        "            descripciones.append(i['nombre']) #fruta \n",
        "            descripciones.append('es una fruta de tipo')\n",
        "            descripciones.append(i['tipo']) #tipo\n",
        "            descripciones.append('de color')\n",
        "            descripciones.append(i['color']) #color\n",
        "            descripciones.append('.')\n",
        "            if i['pepas']: #true\n",
        "                descripciones.append('Presenta pepas en su interior.')\n",
        "            else:\n",
        "                descripciones.append('No presenta pepas en su interior. ')\n",
        "               \n",
        "                        \n",
        "        else:\n",
        "            descripciones.append('El')\n",
        "            descripciones.append(i['nombre']) #fruta\n",
        "            descripciones.append('es una fruta de tipo')\n",
        "            descripciones.append(i['tipo']) #tipo\n",
        "            descripciones.append('de color')\n",
        "            descripciones.append(i['color']) #color\n",
        "            descripciones.append('.')\n",
        "            if i['pepas']: #true\n",
        "                descripciones.append('Presenta pepas en su interior.')\n",
        "            else:\n",
        "                descripciones.append('No presenta pepas en su interior.')\n",
        "    descripciones = ' '.join(descripciones)  \n",
        "# Código Aquí\n",
        "    return descripciones\n",
        "\n",
        "\n",
        "\n",
        "tiene_pepas = True\n",
        "def filtrar_por_pepa(datos, tiene_pepas):\n",
        "    filtrados = []\n",
        "    for i in datos:\n",
        "        if (i['pepas'] == tiene_pepas):\n",
        "            filtrados.append(i)\n",
        "    return filtrados\n",
        "\n",
        "\n",
        "def conteo_colores(datos):\n",
        "    conteo = {'amarillo':0,'naranjo':0,'rojo':0}\n",
        "    a = 0\n",
        "    n = 0\n",
        "    r = 0\n",
        "    for i in datos:\n",
        "        if (i['color'] == 'amarillo'):\n",
        "            a = a +1\n",
        "            conteo['amarillo'] = a\n",
        "        elif(i['color'] == 'naranjo'):\n",
        "            n = n+1\n",
        "            conteo['naranjo'] = n\n",
        "        elif(i['color'] == 'rojo'):\n",
        "            r = r+1\n",
        "            conteo['rojo'] = r\n",
        "    # Código Aquí\n",
        "    return conteo\n"
      ],
      "id": "023bc051",
      "execution_count": 145,
      "outputs": []
    },
    {
      "cell_type": "code",
      "metadata": {
        "colab": {
          "base_uri": "https://localhost:8080/"
        },
        "id": "ZkWYe0N67SsR",
        "outputId": "a8eb52f9-fb21-4027-e78c-53dbf863ca86"
      },
      "source": [
        "tiene_pepas = True\n",
        "dic_pepas = filtrar_por_pepa(datos, tiene_pepas)\n",
        "dic_pepas\n",
        "#type(dic_pepas)\n"
      ],
      "id": "ZkWYe0N67SsR",
      "execution_count": 174,
      "outputs": [
        {
          "output_type": "execute_result",
          "data": {
            "text/plain": [
              "[{'color': 'amarillo', 'nombre': 'limón', 'pepas': True, 'tipo': 'cítrica'},\n",
              " {'color': 'naranjo', 'nombre': 'naranja', 'pepas': True, 'tipo': 'cítrica'},\n",
              " {'color': 'rojo', 'nombre': 'frutilla', 'pepas': True, 'tipo': 'bosque'},\n",
              " {'color': 'rojo', 'nombre': 'frambuesa', 'pepas': True, 'tipo': 'bosque'}]"
            ]
          },
          "metadata": {},
          "execution_count": 174
        }
      ]
    },
    {
      "cell_type": "code",
      "metadata": {
        "colab": {
          "base_uri": "https://localhost:8080/"
        },
        "id": "KPyJRl3v9PHw",
        "outputId": "d217a4a6-f2eb-478e-995d-9bfae760e5e3"
      },
      "source": [
        "len(dic_pepas)"
      ],
      "id": "KPyJRl3v9PHw",
      "execution_count": 176,
      "outputs": [
        {
          "output_type": "execute_result",
          "data": {
            "text/plain": [
              "4"
            ]
          },
          "metadata": {},
          "execution_count": 176
        }
      ]
    },
    {
      "cell_type": "code",
      "metadata": {
        "id": "vuF3UEoh9O7p"
      },
      "source": [
        ""
      ],
      "id": "vuF3UEoh9O7p",
      "execution_count": null,
      "outputs": []
    },
    {
      "cell_type": "code",
      "metadata": {
        "colab": {
          "base_uri": "https://localhost:8080/",
          "height": 198
        },
        "id": "MkfbEOhU8N-i",
        "outputId": "8f889f89-dfe8-4917-b67d-cace6b20a2cd"
      },
      "source": [
        "lista_pepas = []\n",
        "for i in dic_pepas:\n",
        "  lista_pepas.append(dic_pepas['nombre'])"
      ],
      "id": "MkfbEOhU8N-i",
      "execution_count": 170,
      "outputs": [
        {
          "output_type": "error",
          "ename": "TypeError",
          "evalue": "ignored",
          "traceback": [
            "\u001b[0;31m---------------------------------------------------------------------------\u001b[0m",
            "\u001b[0;31mTypeError\u001b[0m                                 Traceback (most recent call last)",
            "\u001b[0;32m<ipython-input-170-21e4c5862aea>\u001b[0m in \u001b[0;36m<module>\u001b[0;34m()\u001b[0m\n\u001b[1;32m      1\u001b[0m \u001b[0mlista_pepas\u001b[0m \u001b[0;34m=\u001b[0m \u001b[0;34m[\u001b[0m\u001b[0;34m]\u001b[0m\u001b[0;34m\u001b[0m\u001b[0;34m\u001b[0m\u001b[0m\n\u001b[1;32m      2\u001b[0m \u001b[0;32mfor\u001b[0m \u001b[0mi\u001b[0m \u001b[0;32min\u001b[0m \u001b[0mdic_pepas\u001b[0m\u001b[0;34m:\u001b[0m\u001b[0;34m\u001b[0m\u001b[0;34m\u001b[0m\u001b[0m\n\u001b[0;32m----> 3\u001b[0;31m   \u001b[0mlista_pepas\u001b[0m\u001b[0;34m.\u001b[0m\u001b[0mappend\u001b[0m\u001b[0;34m(\u001b[0m\u001b[0mdic_pepas\u001b[0m\u001b[0;34m[\u001b[0m\u001b[0;34m'nombre'\u001b[0m\u001b[0;34m]\u001b[0m\u001b[0;34m)\u001b[0m\u001b[0;34m\u001b[0m\u001b[0;34m\u001b[0m\u001b[0m\n\u001b[0m",
            "\u001b[0;31mTypeError\u001b[0m: list indices must be integers or slices, not str"
          ]
        }
      ]
    },
    {
      "cell_type": "markdown",
      "metadata": {
        "id": "5240bec1"
      },
      "source": [
        "El código de la siguiente celda presenta tests para probar sus funciones: Si la ejecución de esta celda no les levanta ninguna excepción, entonces sus funciones están implementadas según lo requerido. Si alguna falla, entonces deberán corregir los errores mostrados. \n",
        "Noten que los strings, diccionarios y en general, los objetos deben ser exactamente idénticos para que el test no falle."
      ],
      "id": "5240bec1"
    },
    {
      "cell_type": "markdown",
      "metadata": {
        "id": "_DWuD58nXd2q"
      },
      "source": [
        "**Ejecuten esta celda para comprobar su código:**"
      ],
      "id": "_DWuD58nXd2q"
    },
    {
      "cell_type": "code",
      "metadata": {
        "id": "c39b58c0",
        "colab": {
          "base_uri": "https://localhost:8080/",
          "height": 235
        },
        "outputId": "29d6be1c-d579-44dc-929b-b2e9c41bd36d"
      },
      "source": [
        "# ---------------------------------------------------------------------\n",
        "# test descripciones\n",
        "# note que las frutas deben estar en igual orden para que este assert no falle.\n",
        "\n",
        "descripciones_esperadas = [\n",
        "    \"La limón es una fruta de tipo cítrica de color amarillo. Pesenta pepas en su interior.\",\n",
        "    \"La naranja es una fruta de tipo cítrica de color naranjo. Pesenta pepas en su interior.\",\n",
        "    \"El plátano es una fruta de tipo tropical de color amarillo. No presenta pepas en su interior.\",\n",
        "    \"La piña es una fruta de tipo tropical de color amarillo. No presenta pepas en su interior.\",\n",
        "    \"La frambuesa es una fruta de tipo bosque de color rojo. Pesenta pepas en su interior.\",\n",
        "    \"La frutilla es una fruta de tipo bosque de color rojo. Pesenta pepas en su interior.\",\n",
        "]\n",
        "\n",
        "assert descripciones_esperadas == describir(datos)\n",
        "\n",
        "\n",
        "# ---------------------------------------------------------------------\n",
        "# test filtro\n",
        "frutas_con_pepa_esperadas = [\n",
        "    {\"nombre\": \"limón\", \"tipo\": \"cítrica\", \"color\": \"amarillo\", \"pepas\": True},\n",
        "    {\"nombre\": \"naranja\", \"tipo\": \"cítrica\", \"color\": \"naranjo\", \"pepas\": True},\n",
        "    {\"nombre\": \"frambuesa\", \"tipo\": \"bosque\", \"color\": \"rojo\", \"pepas\": True},\n",
        "    {\"nombre\": \"frutilla\", \"tipo\": \"bosque\", \"color\": \"rojo\", \"pepas\": True},\n",
        "]\n",
        "\n",
        "assert frutas_con_pepa_esperadas == filtrar_por_pepa(datos, True)\n",
        "\n",
        "# ---------------------------------------------------------------------\n",
        "# test conteo\n",
        "conteo_esperado = {'amarillo': 3, 'naranjo': 1, 'rojo': 2}\n",
        "\n",
        "\n",
        "assert conteo_esperado == conteo_colores(datos) \n"
      ],
      "id": "c39b58c0",
      "execution_count": null,
      "outputs": [
        {
          "output_type": "error",
          "ename": "AssertionError",
          "evalue": "ignored",
          "traceback": [
            "\u001b[0;31m---------------------------------------------------------------------------\u001b[0m",
            "\u001b[0;31mAssertionError\u001b[0m                            Traceback (most recent call last)",
            "\u001b[0;32m<ipython-input-8-aec3648e4afd>\u001b[0m in \u001b[0;36m<module>\u001b[0;34m()\u001b[0m\n\u001b[1;32m     12\u001b[0m ]\n\u001b[1;32m     13\u001b[0m \u001b[0;34m\u001b[0m\u001b[0m\n\u001b[0;32m---> 14\u001b[0;31m \u001b[0;32massert\u001b[0m \u001b[0mdescripciones_esperadas\u001b[0m \u001b[0;34m==\u001b[0m \u001b[0mdescribir\u001b[0m\u001b[0;34m(\u001b[0m\u001b[0mdatos\u001b[0m\u001b[0;34m)\u001b[0m\u001b[0;34m\u001b[0m\u001b[0;34m\u001b[0m\u001b[0m\n\u001b[0m\u001b[1;32m     15\u001b[0m \u001b[0;34m\u001b[0m\u001b[0m\n\u001b[1;32m     16\u001b[0m \u001b[0;34m\u001b[0m\u001b[0m\n",
            "\u001b[0;31mAssertionError\u001b[0m: "
          ]
        }
      ]
    },
    {
      "cell_type": "markdown",
      "metadata": {
        "id": "ef45d2ea"
      },
      "source": [
        "### Implementaciones Funcionales [1.0 punto] \n",
        "\n",
        "Implementar las funciones de la sección anterior de forma funcional (solo las primeras 2 funciones).\n",
        "\n"
      ],
      "id": "ef45d2ea"
    },
    {
      "cell_type": "code",
      "metadata": {
        "id": "c6ef993a"
      },
      "source": [
        "def describir_funcional(datos):\n",
        "    # esta función debería retornar el string para una fruta en particular\n",
        "    def generar_descripcion(fruta):\n",
        "        descripciones = []\n",
        "        lis_frut = list(filter (lambda datos:datos['nombre']== fruta['nombre'],datos ))\n",
        "        if lis_frut['nombre'][len(lis_frut['nombre'])-1] == 'a':\n",
        "            descripciones.append('La')\n",
        "            descripciones.append(lis_frut ['nombre']) #fruta \n",
        "            descripciones.append('es una fruta de tipo')\n",
        "            descripciones.append(lis_frut['tipo']) #tipo\n",
        "            descripciones.append('de color')\n",
        "            descripciones.append(lis_frut['color']) #color\n",
        "            descripciones.append('.')\n",
        "            if lis_frut ['pepas']: #true\n",
        "                descripciones.append('Presenta pepas en su interior.')\n",
        "            else:\n",
        "                descripciones.append('No presenta pepas en su interior. ')\n",
        "        else:\n",
        "            descripciones.append('El')\n",
        "            descripciones.append(lis_frut['nombre']) #fruta\n",
        "            descripciones.append('es una fruta de tipo')\n",
        "            descripciones.append(lis_frut['tipo']) #tipo\n",
        "            descripciones.append('de color')\n",
        "            descripciones.append(lis_frut['color']) #color\n",
        "            descripciones.append('.')\n",
        "            if lis_frut ['pepas']: #true\n",
        "                descripciones.append('Presenta pepas en su interior.')\n",
        "            else:\n",
        "                descripciones.append('No presenta pepas en su interior.')\n",
        "\n",
        "        generar_descripcion = ' '.join(descripciones)  \n",
        "        return generar_descripcion\n",
        "\n",
        "    descripciones = list(map(generar_descripcion, datos))\n",
        "    return descripciones\n",
        "\n",
        "\n",
        "def filtrar_por_pepa_funcional(datos, tipo_de_dato):\n",
        "    for i in datos:\n",
        "        filtrados = list(filter (lambda i : i['pepas']== tipo_de_dato,datos ))\n",
        "            # Código Aquí\n",
        "    return filtrados"
      ],
      "id": "c6ef993a",
      "execution_count": 147,
      "outputs": []
    },
    {
      "cell_type": "code",
      "metadata": {
        "colab": {
          "base_uri": "https://localhost:8080/"
        },
        "id": "RSH6ypPQ7m2O",
        "outputId": "6aa07275-fb38-4419-ef29-a8196c742794"
      },
      "source": [
        "tipo_de_dato = True\n",
        "filtrar_por_pepa_funcional(datos, tipo_de_dato)"
      ],
      "id": "RSH6ypPQ7m2O",
      "execution_count": 149,
      "outputs": [
        {
          "output_type": "execute_result",
          "data": {
            "text/plain": [
              "[{'color': 'amarillo', 'nombre': 'limón', 'pepas': True, 'tipo': 'cítrica'},\n",
              " {'color': 'naranjo', 'nombre': 'naranja', 'pepas': True, 'tipo': 'cítrica'},\n",
              " {'color': 'rojo', 'nombre': 'frutilla', 'pepas': True, 'tipo': 'bosque'},\n",
              " {'color': 'rojo', 'nombre': 'frambuesa', 'pepas': True, 'tipo': 'bosque'}]"
            ]
          },
          "metadata": {},
          "execution_count": 149
        }
      ]
    },
    {
      "cell_type": "markdown",
      "metadata": {
        "id": "fwno3rOhn_jd"
      },
      "source": [
        "Nuevamente más tests, ahora para las funciones con map y filter.\n",
        "\n",
        "**Ejecuten esta celda para comprobar su código:**"
      ],
      "id": "fwno3rOhn_jd"
    },
    {
      "cell_type": "code",
      "metadata": {
        "id": "vlRVONAClo3i"
      },
      "source": [
        "assert descripciones_esperadas == describir_funcional(datos)\n",
        "assert frutas_con_pepa_esperadas == filtrar_por_pepa_funcional(datos, True)"
      ],
      "id": "vlRVONAClo3i",
      "execution_count": null,
      "outputs": []
    },
    {
      "cell_type": "markdown",
      "metadata": {
        "id": "492b941a"
      },
      "source": [
        "## Parte 2: Electrodomésticos 🧃\n",
        "\n",
        "En esta parte se solicitarán un par de clases que permitirá jugar con la Programación Orientada a Objetos.\n",
        "\n",
        "<div align='center'>\n",
        "<img src='https://upload.wikimedia.org/wikipedia/commons/6/67/Breville.jpg' width=400/>\n",
        "</div>"
      ],
      "id": "492b941a"
    },
    {
      "cell_type": "markdown",
      "metadata": {
        "id": "PDaUTTiLd8fl"
      },
      "source": [
        "### Clase Electrodoméstico [0.5 puntos] \n",
        "\n",
        "\n",
        "\n",
        "\n",
        "Defina la clase `Electrodomestico` que implemente:\n",
        "\n",
        "\n",
        "- Un constructor que defina un atributo de instancia llamado `enchufado` que almacene valores booleanos. \n",
        "- Un método llamado `esta_enchufado(self)` que levante una excepción `Exception` y que termine con la ejecución del programa cuando el atributo enchuado sea `False`. La exepción debe levantar el mensaje `'Alerta ⚠️: El electrodoméstico no está enchufado'`"
      ],
      "id": "PDaUTTiLd8fl"
    },
    {
      "cell_type": "code",
      "metadata": {
        "id": "9f8aa475"
      },
      "source": [
        "class Electrodomestico:\n",
        "\n",
        "    def __init__(self):\n",
        "        self.enchufado = False\n",
        "    \n",
        "    def esta_enchufado(self):\n",
        "        if (self.enchufado == False):\n",
        "            raise  Exception(\n",
        "                'Alerta ⚠️: El electrodoméstico no está enchufado'\n",
        "            )\n",
        "            \n",
        "    def enchufar(self):\n",
        "        if (self.enchufado == False):\n",
        "             self.enchufado = True\n",
        "             print(self.enchufado)\n",
        "     "
      ],
      "id": "9f8aa475",
      "execution_count": 150,
      "outputs": []
    },
    {
      "cell_type": "code",
      "metadata": {
        "id": "gErnvF8DuaDs"
      },
      "source": [
        "plancha = Electrodomestico()"
      ],
      "id": "gErnvF8DuaDs",
      "execution_count": 151,
      "outputs": []
    },
    {
      "cell_type": "code",
      "metadata": {
        "colab": {
          "base_uri": "https://localhost:8080/"
        },
        "id": "DiiWI1GZufHY",
        "outputId": "94704d29-debe-4591-8a8d-92025b80c2e9"
      },
      "source": [
        "plancha.enchufado"
      ],
      "id": "DiiWI1GZufHY",
      "execution_count": 152,
      "outputs": [
        {
          "output_type": "execute_result",
          "data": {
            "text/plain": [
              "False"
            ]
          },
          "metadata": {},
          "execution_count": 152
        }
      ]
    },
    {
      "cell_type": "code",
      "metadata": {
        "colab": {
          "base_uri": "https://localhost:8080/",
          "height": 283
        },
        "id": "_0YghCR0ui8D",
        "outputId": "12e38dc1-da56-45b6-eaa8-b34558e748aa"
      },
      "source": [
        "plancha.esta_enchufado()\n"
      ],
      "id": "_0YghCR0ui8D",
      "execution_count": 153,
      "outputs": [
        {
          "output_type": "error",
          "ename": "Exception",
          "evalue": "ignored",
          "traceback": [
            "\u001b[0;31m---------------------------------------------------------------------------\u001b[0m",
            "\u001b[0;31mException\u001b[0m                                 Traceback (most recent call last)",
            "\u001b[0;32m<ipython-input-153-aa9bc3497a54>\u001b[0m in \u001b[0;36m<module>\u001b[0;34m()\u001b[0m\n\u001b[0;32m----> 1\u001b[0;31m \u001b[0mplancha\u001b[0m\u001b[0;34m.\u001b[0m\u001b[0mesta_enchufado\u001b[0m\u001b[0;34m(\u001b[0m\u001b[0;34m)\u001b[0m\u001b[0;34m\u001b[0m\u001b[0;34m\u001b[0m\u001b[0m\n\u001b[0m",
            "\u001b[0;32m<ipython-input-150-afb55f04103e>\u001b[0m in \u001b[0;36mesta_enchufado\u001b[0;34m(self)\u001b[0m\n\u001b[1;32m      7\u001b[0m         \u001b[0;32mif\u001b[0m \u001b[0;34m(\u001b[0m\u001b[0mself\u001b[0m\u001b[0;34m.\u001b[0m\u001b[0menchufado\u001b[0m \u001b[0;34m==\u001b[0m \u001b[0;32mFalse\u001b[0m\u001b[0;34m)\u001b[0m\u001b[0;34m:\u001b[0m\u001b[0;34m\u001b[0m\u001b[0;34m\u001b[0m\u001b[0m\n\u001b[1;32m      8\u001b[0m             raise  Exception(\n\u001b[0;32m----> 9\u001b[0;31m                 \u001b[0;34m'Alerta ⚠️: El electrodoméstico no está enchufado'\u001b[0m\u001b[0;34m\u001b[0m\u001b[0;34m\u001b[0m\u001b[0m\n\u001b[0m\u001b[1;32m     10\u001b[0m             )\n\u001b[1;32m     11\u001b[0m \u001b[0;34m\u001b[0m\u001b[0m\n",
            "\u001b[0;31mException\u001b[0m: Alerta ⚠️: El electrodoméstico no está enchufado"
          ]
        }
      ]
    },
    {
      "cell_type": "code",
      "metadata": {
        "colab": {
          "base_uri": "https://localhost:8080/"
        },
        "id": "DaXUnAxxu3ug",
        "outputId": "0d9eee57-684a-422e-ca7d-776734bbc907"
      },
      "source": [
        "plancha.enchufar()"
      ],
      "id": "DaXUnAxxu3ug",
      "execution_count": 154,
      "outputs": [
        {
          "output_type": "stream",
          "name": "stdout",
          "text": [
            "True\n"
          ]
        }
      ]
    },
    {
      "cell_type": "markdown",
      "metadata": {
        "id": "d7d477b5"
      },
      "source": [
        "### Clase Jugera [2.5 puntos] \n",
        "\n",
        "\n",
        "<div align='center'>\n",
        "<img src='https://upload.wikimedia.org/wikipedia/commons/b/bb/Liquadora_%28parts%29.JPG' width=400/>\n",
        "</div>\n",
        "\n"
      ],
      "id": "d7d477b5"
    },
    {
      "cell_type": "markdown",
      "metadata": {
        "id": "f72a5754"
      },
      "source": [
        "Implemente la clase `Jugera` que extiende `Electrodomestico` y que implemente: \n",
        "\n",
        "\n",
        "- Un constructor que tenga una lista de ingredientes frutales (llamado `bandeja`).\n",
        "\n",
        "\n",
        "- Un método llamado `agregar_ingrediente(self, nueva_fruta)` que dado una fruta, agregue esa fruta a la `bandeja`.\n",
        "\n",
        "- Un método llamado `listar_ingredientes(self)` que imprima (con `print`) los ingredientes actuales de la `bandeja` de la siguiente forma: \n",
        "\n",
        "    `Ingredientes en la bandeja: frutilla, frambuesa, piña.`\n",
        "\n",
        "    Hint: Investigar el método `join` de un string para generar el string con los nombres de las frutas.\n",
        "    \n",
        "    \n",
        "    \n",
        "\n",
        "- Un método llamado `preparar_jugo(self)` que: \n",
        "    - Primero verifique que el electrodoméstico esté enchufado usando `self.esta_enchufado()`.\n",
        "    - Verifique que haya por lo menos un ingrediente en la `bandeja`. En el caso que no haya, levantar una excepción con contenido `'Error ❌: La bandeja no tiene ingredientes.'`\n",
        "    - Verifique que ninguna fruta tenga pepas. En el caso que haya alguna, imprimir (con `print`) el mensaje de advertencia `'Alerta ⚠️: El jugo puede contener restos de pepas.'`. Puede usar la función definida en la sección anterior.\n",
        "    - Genere un mensaje indicado `Jugo de {nombres de las frutas separadas por una ,} listo. 🏖️🥤 Que lo disfrutes!!! 🥤🏖️. ` (Hint: Usar nuevamente `join`).\n",
        "    - Vacie la `bandeja` (es decir, eliminar todas las frutas de la bandeja).\n",
        "    - Retorne el mensaje generado.\n"
      ],
      "id": "f72a5754"
    },
    {
      "cell_type": "code",
      "metadata": {
        "id": "d9db037b"
      },
      "source": [
        "class Juguera(Electrodomestico):\n",
        "    \n",
        "    def __init__(self):\n",
        "        self.bandeja =[] \n",
        "        \n",
        "    def agregar_ingrediente(self, nueva_fruta):\n",
        "        x = self.bandeja\n",
        "        x.append(nueva_fruta)\n",
        "        self.bandeja = x\n",
        "   \n",
        "    def listar_ingredientes(self):\n",
        "        x = self.bandeja\n",
        "        if len(x)>0:\n",
        "          print('Ingredientes en la bandeja:' + ' '+','.join(x))\n",
        "        else:\n",
        "          print('Bandeja vacía.')\n",
        "\n",
        "\n",
        "\n",
        "   #filtrar_por_pepa(datos, tiene_pepas)\n",
        "    filtrados = ['limon','naranja','frutilla', 'frambuesa']\n",
        "\n",
        "    def preparar_jugo(self):\n",
        "        Enc = self.esta_enchufado\n",
        "        if Enc :\n",
        "          x = self.bandeja\n",
        "          if len(x) >0:\n",
        "            for i in x:\n",
        "              for j in filtrados:\n",
        "                if(i == j):\n",
        "                  print('Alerta ⚠️: El jugo puede contener restos de pepas.')\n",
        "            print('Jugo de'+ ' '+','.join(x) + 'listo. 🏖️🥤 Que lo disfrutes!!! 🥤🏖️.')\n",
        "            self.bandeja = [] \n",
        "            print('Error ❌: La bandeja no tiene ingredientes.')\n",
        "          else:\n",
        "            raise  Exception(\n",
        "                'Error ❌: La bandeja no tiene ingredientes.'\n",
        "            )\n",
        "          \n",
        "        else:\n",
        "          print('Juguera desenchufada.')        \n",
        "        return None"
      ],
      "id": "d9db037b",
      "execution_count": 249,
      "outputs": []
    },
    {
      "cell_type": "code",
      "metadata": {
        "id": "OKP5rsm9tM5U"
      },
      "source": [
        "nueva_fruta = 'naranja'\n",
        "jug = Juguera()\n",
        "jug.agregar_ingrediente(nueva_fruta)\n"
      ],
      "id": "OKP5rsm9tM5U",
      "execution_count": 202,
      "outputs": []
    },
    {
      "cell_type": "code",
      "metadata": {
        "id": "Jid0PO3ByAqG"
      },
      "source": [
        "nueva_fruta = 'frutilla'\n",
        "jug.agregar_ingrediente(nueva_fruta)"
      ],
      "id": "Jid0PO3ByAqG",
      "execution_count": 203,
      "outputs": []
    },
    {
      "cell_type": "code",
      "metadata": {
        "colab": {
          "base_uri": "https://localhost:8080/",
          "height": 300
        },
        "id": "JsKW1v-Wtyk-",
        "outputId": "b620faea-06d2-4b73-d42b-8bce9ce0131c"
      },
      "source": [
        "jug.enchufado = False\n",
        "jug.esta_enchufado()"
      ],
      "id": "JsKW1v-Wtyk-",
      "execution_count": 204,
      "outputs": [
        {
          "output_type": "error",
          "ename": "Exception",
          "evalue": "ignored",
          "traceback": [
            "\u001b[0;31m---------------------------------------------------------------------------\u001b[0m",
            "\u001b[0;31mException\u001b[0m                                 Traceback (most recent call last)",
            "\u001b[0;32m<ipython-input-204-3ad30a3bef7d>\u001b[0m in \u001b[0;36m<module>\u001b[0;34m()\u001b[0m\n\u001b[1;32m      1\u001b[0m \u001b[0mjug\u001b[0m\u001b[0;34m.\u001b[0m\u001b[0menchufado\u001b[0m \u001b[0;34m=\u001b[0m \u001b[0;32mFalse\u001b[0m\u001b[0;34m\u001b[0m\u001b[0;34m\u001b[0m\u001b[0m\n\u001b[0;32m----> 2\u001b[0;31m \u001b[0mjug\u001b[0m\u001b[0;34m.\u001b[0m\u001b[0mesta_enchufado\u001b[0m\u001b[0;34m(\u001b[0m\u001b[0;34m)\u001b[0m\u001b[0;34m\u001b[0m\u001b[0;34m\u001b[0m\u001b[0m\n\u001b[0m",
            "\u001b[0;32m<ipython-input-150-afb55f04103e>\u001b[0m in \u001b[0;36mesta_enchufado\u001b[0;34m(self)\u001b[0m\n\u001b[1;32m      7\u001b[0m         \u001b[0;32mif\u001b[0m \u001b[0;34m(\u001b[0m\u001b[0mself\u001b[0m\u001b[0;34m.\u001b[0m\u001b[0menchufado\u001b[0m \u001b[0;34m==\u001b[0m \u001b[0;32mFalse\u001b[0m\u001b[0;34m)\u001b[0m\u001b[0;34m:\u001b[0m\u001b[0;34m\u001b[0m\u001b[0;34m\u001b[0m\u001b[0m\n\u001b[1;32m      8\u001b[0m             raise  Exception(\n\u001b[0;32m----> 9\u001b[0;31m                 \u001b[0;34m'Alerta ⚠️: El electrodoméstico no está enchufado'\u001b[0m\u001b[0;34m\u001b[0m\u001b[0;34m\u001b[0m\u001b[0m\n\u001b[0m\u001b[1;32m     10\u001b[0m             )\n\u001b[1;32m     11\u001b[0m \u001b[0;34m\u001b[0m\u001b[0m\n",
            "\u001b[0;31mException\u001b[0m: Alerta ⚠️: El electrodoméstico no está enchufado"
          ]
        }
      ]
    },
    {
      "cell_type": "code",
      "metadata": {
        "colab": {
          "base_uri": "https://localhost:8080/"
        },
        "id": "Bps9oElfwDnN",
        "outputId": "86fa515c-d0c8-4cfc-be96-ac30916862c5"
      },
      "source": [
        "jug.enchufar()"
      ],
      "id": "Bps9oElfwDnN",
      "execution_count": 205,
      "outputs": [
        {
          "output_type": "stream",
          "name": "stdout",
          "text": [
            "True\n"
          ]
        }
      ]
    },
    {
      "cell_type": "code",
      "metadata": {
        "id": "eCnlds7xydYN"
      },
      "source": [
        "nueva_fruta = 'platano'"
      ],
      "id": "eCnlds7xydYN",
      "execution_count": 206,
      "outputs": []
    },
    {
      "cell_type": "code",
      "metadata": {
        "id": "bFITHtSawG86"
      },
      "source": [
        "jug.agregar_ingrediente(nueva_fruta)"
      ],
      "id": "bFITHtSawG86",
      "execution_count": 207,
      "outputs": []
    },
    {
      "cell_type": "code",
      "metadata": {
        "colab": {
          "base_uri": "https://localhost:8080/"
        },
        "id": "T4XL2SDuwLYO",
        "outputId": "529ed423-ea09-49d1-87d8-d05ac4c6d830"
      },
      "source": [
        "jug.bandeja"
      ],
      "id": "T4XL2SDuwLYO",
      "execution_count": 208,
      "outputs": [
        {
          "output_type": "execute_result",
          "data": {
            "text/plain": [
              "['naranja', 'frutilla', 'platano']"
            ]
          },
          "metadata": {},
          "execution_count": 208
        }
      ]
    },
    {
      "cell_type": "code",
      "metadata": {
        "id": "7E-pE5P8x3yA"
      },
      "source": [
        "#print(jug.bandeja)\n",
        "#x = jug.bandeja\n",
        "#print(x)\n",
        "#print('-'.join(x))\n",
        "#print('Ingredientes en la bandeja:' + ' '+','.join(x))"
      ],
      "id": "7E-pE5P8x3yA",
      "execution_count": 186,
      "outputs": []
    },
    {
      "cell_type": "code",
      "metadata": {
        "colab": {
          "base_uri": "https://localhost:8080/"
        },
        "id": "UyksmLcE1Kqh",
        "outputId": "a17d6c97-6897-47ef-fa6e-bdfdbb997075"
      },
      "source": [
        "jug.listar_ingredientes()"
      ],
      "id": "UyksmLcE1Kqh",
      "execution_count": 209,
      "outputs": [
        {
          "output_type": "stream",
          "name": "stdout",
          "text": [
            "Ingredientes en la bandeja: naranja,frutilla,platano\n"
          ]
        }
      ]
    },
    {
      "cell_type": "code",
      "metadata": {
        "colab": {
          "base_uri": "https://localhost:8080/"
        },
        "id": "inos1UJx7GLM",
        "outputId": "6b5d6605-2e6c-4365-d800-fffcffec6fab"
      },
      "source": [
        "jug.preparar_jugo()\n"
      ],
      "id": "inos1UJx7GLM",
      "execution_count": 210,
      "outputs": [
        {
          "output_type": "stream",
          "name": "stdout",
          "text": [
            "Alerta ⚠️: El jugo puede contener restos de pepas.\n",
            "Alerta ⚠️: El jugo puede contener restos de pepas.\n",
            "Jugo de naranja,frutilla,platanolisto. 🏖️🥤 Que lo disfrutes!!! 🥤🏖️.\n",
            "Error ❌: La bandeja no tiene ingredientes.\n"
          ]
        }
      ]
    },
    {
      "cell_type": "markdown",
      "metadata": {
        "id": "6889015a"
      },
      "source": [
        "### Interacciones\n",
        "\n",
        "Las siguientes celdas les permitirán probar las interacciones de esta clase.\n",
        "La ejecución es solo referencial y no lleva puntaje. La idea es que la utilice como guía para desarrollar la clase."
      ],
      "id": "6889015a"
    },
    {
      "cell_type": "code",
      "metadata": {
        "id": "913af660",
        "colab": {
          "base_uri": "https://localhost:8080/"
        },
        "outputId": "9c12f42e-f6bf-4d8a-9993-d86a3df99f77"
      },
      "source": [
        "juguera = Juguera()\n",
        "\n",
        "# Como no tenemos ingredientes, listar_ingredientes deberá imprimir 'Bandeja vacía'\n",
        "juguera.listar_ingredientes()"
      ],
      "id": "913af660",
      "execution_count": 250,
      "outputs": [
        {
          "output_type": "stream",
          "name": "stdout",
          "text": [
            "Bandeja vacía.\n"
          ]
        }
      ]
    },
    {
      "cell_type": "code",
      "metadata": {
        "id": "UuOCbLQUBC0p"
      },
      "source": [
        "juguera.enchufado = False"
      ],
      "id": "UuOCbLQUBC0p",
      "execution_count": 251,
      "outputs": []
    },
    {
      "cell_type": "code",
      "metadata": {
        "scrolled": false,
        "id": "9d06bf3e",
        "colab": {
          "base_uri": "https://localhost:8080/",
          "height": 300
        },
        "outputId": "5a2ce615-e3f4-4b88-813f-fae05ed6e421"
      },
      "source": [
        "# Esta celda debería levantar una excepcion indicando que no está enchufada la jugera.\n",
        "juguera.preparar_jugo()"
      ],
      "id": "9d06bf3e",
      "execution_count": 252,
      "outputs": [
        {
          "output_type": "error",
          "ename": "Exception",
          "evalue": "ignored",
          "traceback": [
            "\u001b[0;31m---------------------------------------------------------------------------\u001b[0m",
            "\u001b[0;31mException\u001b[0m                                 Traceback (most recent call last)",
            "\u001b[0;32m<ipython-input-252-ae274f645fc0>\u001b[0m in \u001b[0;36m<module>\u001b[0;34m()\u001b[0m\n\u001b[1;32m      1\u001b[0m \u001b[0;31m# Esta celda debería levantar una excepcion indicando que no está enchufada la jugera.\u001b[0m\u001b[0;34m\u001b[0m\u001b[0;34m\u001b[0m\u001b[0;34m\u001b[0m\u001b[0m\n\u001b[0;32m----> 2\u001b[0;31m \u001b[0mjuguera\u001b[0m\u001b[0;34m.\u001b[0m\u001b[0mpreparar_jugo\u001b[0m\u001b[0;34m(\u001b[0m\u001b[0;34m)\u001b[0m\u001b[0;34m\u001b[0m\u001b[0;34m\u001b[0m\u001b[0m\n\u001b[0m",
            "\u001b[0;32m<ipython-input-249-705ddcb31a65>\u001b[0m in \u001b[0;36mpreparar_jugo\u001b[0;34m(self)\u001b[0m\n\u001b[1;32m     35\u001b[0m           \u001b[0;32melse\u001b[0m\u001b[0;34m:\u001b[0m\u001b[0;34m\u001b[0m\u001b[0;34m\u001b[0m\u001b[0m\n\u001b[1;32m     36\u001b[0m             raise  Exception(\n\u001b[0;32m---> 37\u001b[0;31m                 \u001b[0;34m'Error ❌: La bandeja no tiene ingredientes.'\u001b[0m\u001b[0;34m\u001b[0m\u001b[0;34m\u001b[0m\u001b[0m\n\u001b[0m\u001b[1;32m     38\u001b[0m             )\n\u001b[1;32m     39\u001b[0m \u001b[0;34m\u001b[0m\u001b[0m\n",
            "\u001b[0;31mException\u001b[0m: Error ❌: La bandeja no tiene ingredientes."
          ]
        }
      ]
    },
    {
      "cell_type": "code",
      "metadata": {
        "id": "3ad38f18",
        "colab": {
          "base_uri": "https://localhost:8080/"
        },
        "outputId": "5896df27-589d-49b1-b48a-cfb795e77522"
      },
      "source": [
        "# Enchufamos el electrodoméstico\n",
        "juguera.enchufar()"
      ],
      "id": "3ad38f18",
      "execution_count": 253,
      "outputs": [
        {
          "output_type": "stream",
          "name": "stdout",
          "text": [
            "True\n"
          ]
        }
      ]
    },
    {
      "cell_type": "code",
      "metadata": {
        "scrolled": true,
        "id": "48009872",
        "colab": {
          "base_uri": "https://localhost:8080/",
          "height": 300
        },
        "outputId": "42cb9847-21f9-4876-d370-5ee685c7aca1"
      },
      "source": [
        "# Esta celda debería levantar ina excepción informandoles que la bandeja no tiene ingredientes.\n",
        "juguera.preparar_jugo()"
      ],
      "id": "48009872",
      "execution_count": 254,
      "outputs": [
        {
          "output_type": "error",
          "ename": "Exception",
          "evalue": "ignored",
          "traceback": [
            "\u001b[0;31m---------------------------------------------------------------------------\u001b[0m",
            "\u001b[0;31mException\u001b[0m                                 Traceback (most recent call last)",
            "\u001b[0;32m<ipython-input-254-d9fdcaedf968>\u001b[0m in \u001b[0;36m<module>\u001b[0;34m()\u001b[0m\n\u001b[1;32m      1\u001b[0m \u001b[0;31m# Esta celda debería levantar ina excepción informandoles que la bandeja no tiene ingredientes.\u001b[0m\u001b[0;34m\u001b[0m\u001b[0;34m\u001b[0m\u001b[0;34m\u001b[0m\u001b[0m\n\u001b[0;32m----> 2\u001b[0;31m \u001b[0mjuguera\u001b[0m\u001b[0;34m.\u001b[0m\u001b[0mpreparar_jugo\u001b[0m\u001b[0;34m(\u001b[0m\u001b[0;34m)\u001b[0m\u001b[0;34m\u001b[0m\u001b[0;34m\u001b[0m\u001b[0m\n\u001b[0m",
            "\u001b[0;32m<ipython-input-249-705ddcb31a65>\u001b[0m in \u001b[0;36mpreparar_jugo\u001b[0;34m(self)\u001b[0m\n\u001b[1;32m     35\u001b[0m           \u001b[0;32melse\u001b[0m\u001b[0;34m:\u001b[0m\u001b[0;34m\u001b[0m\u001b[0;34m\u001b[0m\u001b[0m\n\u001b[1;32m     36\u001b[0m             raise  Exception(\n\u001b[0;32m---> 37\u001b[0;31m                 \u001b[0;34m'Error ❌: La bandeja no tiene ingredientes.'\u001b[0m\u001b[0;34m\u001b[0m\u001b[0;34m\u001b[0m\u001b[0m\n\u001b[0m\u001b[1;32m     38\u001b[0m             )\n\u001b[1;32m     39\u001b[0m \u001b[0;34m\u001b[0m\u001b[0m\n",
            "\u001b[0;31mException\u001b[0m: Error ❌: La bandeja no tiene ingredientes."
          ]
        }
      ]
    },
    {
      "cell_type": "code",
      "metadata": {
        "id": "5UsRcPHmB451"
      },
      "source": [
        "# Agregamos algunos ingredientes\n",
        "nueva_fruta = 'naranja'\n",
        "juguera.agregar_ingrediente(nueva_fruta)\n",
        "nueva_fruta = 'platano'\n",
        "juguera.agregar_ingrediente(nueva_fruta)\n"
      ],
      "id": "5UsRcPHmB451",
      "execution_count": 255,
      "outputs": []
    },
    {
      "cell_type": "code",
      "metadata": {
        "id": "4873e0bf",
        "colab": {
          "base_uri": "https://localhost:8080/"
        },
        "outputId": "41585922-f099-4d95-834e-43fe3687b580"
      },
      "source": [
        "# Y los listamos (debería imprimir: 'Ingredientes en la bandeja: naranja, plátano')\n",
        "juguera.listar_ingredientes()"
      ],
      "id": "4873e0bf",
      "execution_count": 256,
      "outputs": [
        {
          "output_type": "stream",
          "name": "stdout",
          "text": [
            "Ingredientes en la bandeja: naranja,platano\n"
          ]
        }
      ]
    },
    {
      "cell_type": "code",
      "metadata": {
        "id": "ff555151",
        "colab": {
          "base_uri": "https://localhost:8080/"
        },
        "outputId": "1dbdf21f-9d46-4d86-aa39-02e3f54ce17b"
      },
      "source": [
        "# Preparamos el jugo: 'Jugo de naranja, plátano listo. 🏖️🥤 Que lo disfrutes!!! 🥤🏖️.'\n",
        "juguera.preparar_jugo()"
      ],
      "id": "ff555151",
      "execution_count": 258,
      "outputs": [
        {
          "output_type": "stream",
          "name": "stdout",
          "text": [
            "Alerta ⚠️: El jugo puede contener restos de pepas.\n",
            "Jugo de naranja,platanolisto. 🏖️🥤 Que lo disfrutes!!! 🥤🏖️.\n",
            "Error ❌: La bandeja no tiene ingredientes.\n"
          ]
        }
      ]
    },
    {
      "cell_type": "code",
      "metadata": {
        "id": "bbc532b2",
        "colab": {
          "base_uri": "https://localhost:8080/",
          "height": 300
        },
        "outputId": "72ce3fbd-0463-4f1f-fa88-0dab76cb35a0"
      },
      "source": [
        "# Una vez preparado el jugo, debería vaciarse la bandeja (imprimir Bandeja vacía)\n",
        "jugera.listar_ingredientes()"
      ],
      "id": "bbc532b2",
      "execution_count": 259,
      "outputs": [
        {
          "output_type": "error",
          "ename": "TypeError",
          "evalue": "ignored",
          "traceback": [
            "\u001b[0;31m---------------------------------------------------------------------------\u001b[0m",
            "\u001b[0;31mTypeError\u001b[0m                                 Traceback (most recent call last)",
            "\u001b[0;32m<ipython-input-259-712b46de459e>\u001b[0m in \u001b[0;36m<module>\u001b[0;34m()\u001b[0m\n\u001b[1;32m      1\u001b[0m \u001b[0;31m# Una vez preparado el jugo, debería vaciarse la bandeja (imprimir Bandeja vacía)\u001b[0m\u001b[0;34m\u001b[0m\u001b[0;34m\u001b[0m\u001b[0;34m\u001b[0m\u001b[0m\n\u001b[0;32m----> 2\u001b[0;31m \u001b[0mjugera\u001b[0m\u001b[0;34m.\u001b[0m\u001b[0mlistar_ingredientes\u001b[0m\u001b[0;34m(\u001b[0m\u001b[0;34m)\u001b[0m\u001b[0;34m\u001b[0m\u001b[0;34m\u001b[0m\u001b[0m\n\u001b[0m",
            "\u001b[0;32m<ipython-input-220-360883005e58>\u001b[0m in \u001b[0;36mlistar_ingredientes\u001b[0;34m(self)\u001b[0m\n\u001b[1;32m     12\u001b[0m         \u001b[0mx\u001b[0m \u001b[0;34m=\u001b[0m \u001b[0mself\u001b[0m\u001b[0;34m.\u001b[0m\u001b[0mbandeja\u001b[0m\u001b[0;34m\u001b[0m\u001b[0;34m\u001b[0m\u001b[0m\n\u001b[1;32m     13\u001b[0m         \u001b[0;32mif\u001b[0m \u001b[0mlen\u001b[0m\u001b[0;34m(\u001b[0m\u001b[0mx\u001b[0m\u001b[0;34m)\u001b[0m\u001b[0;34m>\u001b[0m\u001b[0;36m0\u001b[0m\u001b[0;34m:\u001b[0m\u001b[0;34m\u001b[0m\u001b[0;34m\u001b[0m\u001b[0m\n\u001b[0;32m---> 14\u001b[0;31m           \u001b[0mprint\u001b[0m\u001b[0;34m(\u001b[0m\u001b[0;34m'Ingredientes en la bandeja:'\u001b[0m \u001b[0;34m+\u001b[0m \u001b[0;34m' '\u001b[0m\u001b[0;34m+\u001b[0m\u001b[0;34m','\u001b[0m\u001b[0;34m.\u001b[0m\u001b[0mjoin\u001b[0m\u001b[0;34m(\u001b[0m\u001b[0mx\u001b[0m\u001b[0;34m)\u001b[0m\u001b[0;34m)\u001b[0m\u001b[0;34m\u001b[0m\u001b[0;34m\u001b[0m\u001b[0m\n\u001b[0m\u001b[1;32m     15\u001b[0m         \u001b[0;32melse\u001b[0m\u001b[0;34m:\u001b[0m\u001b[0;34m\u001b[0m\u001b[0;34m\u001b[0m\u001b[0m\n\u001b[1;32m     16\u001b[0m           \u001b[0mprint\u001b[0m\u001b[0;34m(\u001b[0m\u001b[0;34m'Bandeja vacía.'\u001b[0m\u001b[0;34m)\u001b[0m\u001b[0;34m\u001b[0m\u001b[0;34m\u001b[0m\u001b[0m\n",
            "\u001b[0;31mTypeError\u001b[0m: sequence item 0: expected str instance, dict found"
          ]
        }
      ]
    },
    {
      "cell_type": "markdown",
      "metadata": {
        "id": "972dbcac"
      },
      "source": [
        "## Bonus [0.5]\n",
        "\n",
        "Implementar `bandeja` usando una `property` que permita setear una `nueva_bandeja` como `bandeja` según las siguientes condiciones:\n",
        "\n",
        "\n",
        "- Compruebe que `nueva_bandeja` sea una lista. En caso contrario, levante una excepción.\n",
        "- No permita agregar más de 3 ingredientes a la bandeja a la vez. Si se entregan más de 3 frutas, se levante una excepción.\n",
        "- Se compruebe que todos los elementos del arreglo sean frutas. Para esto, por cada fruta compruebe que:\n",
        "    1. La fruta sea diccionario.\n",
        "    2. El diccionario entregado tenga las llaves `nombre`, `tipo`, `color` y `pepas`."
      ],
      "id": "972dbcac"
    },
    {
      "cell_type": "code",
      "metadata": {
        "id": "cVRf_u57sI0i"
      },
      "source": [
        "class Jugera(Electrodomestico):\n",
        "    \n",
        "    \n",
        "    def __init__(self):\n",
        "        # Código Aquí\n",
        "\n",
        "    @property\n",
        "    def bandeja(self):\n",
        "        # Código Aquí\n",
        "        \n",
        "    @bandeja.setter\n",
        "    def bandeja(self, nueva_bandeja):\n",
        "        # Código Aquí\n",
        "\n",
        "    def agregar_ingrediente(self, nueva_fruta):\n",
        "        # Código Aquí\n",
        "     \n",
        "    def listar_ingredientes(self):\n",
        "        # Código Aquí\n",
        "    \n",
        "    def preparar_jugo(self):\n",
        "        # Código Aquí\n",
        "        \n",
        "        return mensaje"
      ],
      "id": "cVRf_u57sI0i",
      "execution_count": null,
      "outputs": []
    }
  ]
}